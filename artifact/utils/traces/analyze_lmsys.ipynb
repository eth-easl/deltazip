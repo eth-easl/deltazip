{
 "cells": [
  {
   "cell_type": "code",
   "execution_count": 5,
   "metadata": {},
   "outputs": [],
   "source": [
    "import pandas as pd"
   ]
  },
  {
   "cell_type": "code",
   "execution_count": 3,
   "metadata": {},
   "outputs": [
    {
     "name": "stdout",
     "output_type": "stream",
     "text": [
      "--2023-09-26 22:25:22--  https://github.com/Azure/AzurePublicDataset/raw/master/data/AzureFunctionsInvocationTraceForTwoWeeksJan2021.rar\n",
      "Resolving github.com (github.com)... 140.82.121.4\n",
      "Connecting to github.com (github.com)|140.82.121.4|:443... connected.\n",
      "HTTP request sent, awaiting response... 302 Found\n",
      "Location: https://raw.githubusercontent.com/Azure/AzurePublicDataset/master/data/AzureFunctionsInvocationTraceForTwoWeeksJan2021.rar [following]\n",
      "--2023-09-26 22:25:22--  https://raw.githubusercontent.com/Azure/AzurePublicDataset/master/data/AzureFunctionsInvocationTraceForTwoWeeksJan2021.rar\n",
      "Resolving raw.githubusercontent.com (raw.githubusercontent.com)... 185.199.111.133, 185.199.108.133, 185.199.110.133, ...\n",
      "Connecting to raw.githubusercontent.com (raw.githubusercontent.com)|185.199.111.133|:443... connected.\n",
      "HTTP request sent, awaiting response... 200 OK\n",
      "Length: 18444269 (18M) [application/octet-stream]\n",
      "Saving to: ‘data/azure.rar’\n",
      "\n",
      "data/azure.rar      100%[===================>]  17.59M  87.6MB/s    in 0.2s    \n",
      "\n",
      "2023-09-26 22:25:23 (87.6 MB/s) - ‘data/azure.rar’ saved [18444269/18444269]\n",
      "\n"
     ]
    }
   ],
   "source": [
    "!wget https://github.com/Azure/AzurePublicDataset/raw/master/data/AzureFunctionsInvocationTraceForTwoWeeksJan2021.rar -O data/azure.rar\n",
    "!unrar x data/azure.rar data/"
   ]
  },
  {
   "cell_type": "code",
   "execution_count": 7,
   "metadata": {},
   "outputs": [],
   "source": [
    "with open(\"data/AzureFunctionsInvocationTraceForTwoWeeksJan2021.txt\", \"r\") as fp:\n",
    "    data = [x.split(\",\") for x in fp.read().splitlines()]\n",
    "\n",
    "res = [{\"func\": x[1], \"timestamp\": x[2]} for x in data]\n",
    "df = pd.DataFrame(res)"
   ]
  },
  {
   "cell_type": "code",
   "execution_count": 12,
   "metadata": {},
   "outputs": [],
   "source": [
    "# round robin map each function to 0-N\n",
    "func_map = {}\n",
    "total_models = 5\n",
    "\n",
    "for i, func in enumerate(df[\"func\"].unique()):\n",
    "    func_map[func] = i % total_models\n",
    "\n",
    "res = [{\"func\": x[1], \"timestamp\": x[2], \"mapped_model\": func_map[x[1]]} for x in data]\n",
    "df = pd.DataFrame(res)\n",
    "# sort by timestamp\n",
    "df = df.sort_values(by=[\"timestamp\"])\n",
    "df.to_csv(\"data/azure.csv\", index=False)"
   ]
  },
  {
   "cell_type": "code",
   "execution_count": 14,
   "metadata": {},
   "outputs": [
    {
     "data": {
      "text/plain": [
       "<Axes: xlabel='mapped_model'>"
      ]
     },
     "execution_count": 14,
     "metadata": {},
     "output_type": "execute_result"
    },
    {
     "data": {
      "image/png": "[encoded data removed]",
      "text/plain": [
       "<Figure size 640x480 with 1 Axes>"
      ]
     },
     "metadata": {},
     "output_type": "display_data"
    }
   ],
   "source": [
    "# plot a histogram of the number of invocations per function\n",
    "df[\"mapped_model\"].value_counts().plot(kind=\"bar\")"
   ]
  }
 ],
 "metadata": {
  "kernelspec": {
   "display_name": "fmzip",
   "language": "python",
   "name": "python3"
  },
  "language_info": {
   "codemirror_mode": {
    "name": "ipython",
    "version": 3
   },
   "file_extension": ".py",
   "mimetype": "text/x-python",
   "name": "python",
   "nbconvert_exporter": "python",
   "pygments_lexer": "ipython3",
   "version": "3.10.12"
  },
  "orig_nbformat": 4
 },
 "nbformat": 4,
 "nbformat_minor": 2
}
